{
 "cells": [
  {
   "cell_type": "markdown",
   "metadata": {},
   "source": [
    "#### BMSE Course\n",
    "# Assignment 1\n",
    "\n",
    "\n",
    "By: Ryan Neff  \n",
    "September 28th, 2017"
   ]
  },
  {
   "cell_type": "markdown",
   "metadata": {},
   "source": [
    "## Problem 1: \n",
    "- [x] Write a program that tests whether - and * are associative, commutative and distributive for Python integers. \n",
    "- [x] Write another program that tests whether these properties hold for the operators `and` and `or` over Boolean values."
   ]
  },
  {
   "cell_type": "markdown",
   "metadata": {},
   "source": [
    "#### Example - Problem 1 - example_a.py"
   ]
  },
  {
   "cell_type": "code",
   "execution_count": 1,
   "metadata": {},
   "outputs": [
    {
     "name": "stdout",
     "output_type": "stream",
     "text": [
      "+ appears associative\n",
      "* appears associative\n",
      "+ appears commutative\n",
      "* appears commutative\n",
      "* appears left distributive over +\n",
      "+ isn't left distributive over *\n"
     ]
    }
   ],
   "source": [
    "'''Biomedical Software Engineering: BMI2002: Assignment 1\n",
    "\n",
    ":Author: Arthur Goldberg, Arthur.Goldberg@mssm.edu\n",
    ":Date: 2017-09-24\n",
    ":Copyright: 2017, Arthur Goldberg\n",
    "'''\n",
    "# Problem 1: \n",
    "# Write a program that evaluates whether some Python operators on some types satisfy\n",
    "# the associative, commutative, or distributive properties.\n",
    "# For example, are + and * associative and commutative for Python integers,\n",
    "# and are they distributive together?\n",
    "\n",
    "# Helpful examples:\n",
    "\n",
    "# associative: (a op b) op c  =  a op (b op c)\n",
    "# commutative: a op b  =  b op a\n",
    "# distributive: a op2 (b op1 c)  =  a op2 b  op1  a op2 c\n",
    "\n",
    "# is + associative? analytically, we find yes\n",
    "if 1 + (2 + 3) == (1 + 2) + 3:\n",
    "    print('+ appears associative')\n",
    "else:\n",
    "    print(\"+ isn't associative\")\n",
    "\n",
    "# is * associative? analytically, we find yes\n",
    "if 1 * (2 * 3) == (1 * 2) * 3:\n",
    "    print('* appears associative')\n",
    "else:\n",
    "    print(\"* isn't associative\")\n",
    "\n",
    "# is + commutative? analytically, we find yes\n",
    "if 2 + 3 == 3 + 2:\n",
    "    print('+ appears commutative')\n",
    "else:\n",
    "    print(\"+ isn't commutative\")\n",
    "\n",
    "# is * commutative? analytically, we find yes\n",
    "if 2 * 3 == 3 * 2:\n",
    "    print('* appears commutative')\n",
    "else:\n",
    "    print(\"* isn't commutative\")\n",
    "\n",
    "# is * left distributive over +? analytically, we find yes\n",
    "if 2 * (3 + 4)  ==  (2 * 3)  +  (2 * 4):\n",
    "    print('* appears left distributive over +')\n",
    "else:\n",
    "    print(\"* isn't left distributive over +\")\n",
    "\n",
    "# is + left distributive over *? analytically, we find NO\n",
    "if 2 + (3 * 4)  ==  (2 + 3)  *  (2 + 4):\n",
    "    print('+ appears left distributive over *')\n",
    "else:\n",
    "    print(\"+ isn't left distributive over *\")"
   ]
  },
  {
   "cell_type": "markdown",
   "metadata": {},
   "source": [
    "### Solution - Problem 1"
   ]
  },
  {
   "cell_type": "code",
   "execution_count": 57,
   "metadata": {},
   "outputs": [
    {
     "name": "stdout",
     "output_type": "stream",
     "text": [
      "Is subtraction associative? No\n",
      "Is subtraction commutative? No\n",
      "Is subtraction left distributive over multiplication? No\n",
      "Is multiplication associative? Yes\n",
      "Is multiplication commutative? Yes\n",
      "Is multiplication left distributive over subtraction? Yes\n"
     ]
    }
   ],
   "source": [
    "def negative_associative(int1=1,int2=2,int3=3):\n",
    "    return int1 - (int2-int3) == (int1-int2) - int3     \n",
    "\n",
    "def negative_commutative(int1=1,int2=2):\n",
    "    return int1 - int2 == int2 - int1\n",
    "\n",
    "def negative_left_distributive_mult(int1=1,int2=2,int3=3):\n",
    "    return int1-(int2*int3) == (int1-int2) * (int1-int3)\n",
    "    \n",
    "def mult_associative(int1=1,int2=2,int3=3):\n",
    "    return int1 * (int2*int3) == (int1*int2) * int3\n",
    "\n",
    "def mult_commutative(int1=1,int2=2):\n",
    "    return int1 * int2 == int2 * int1\n",
    "\n",
    "def mult_left_distributive_negative(int1=1,int2=2,int3=3):\n",
    "    return int1*(int2-int3) == (int1*int2) - (int1*int3)\n",
    "\n",
    "print(\"Is subtraction associative?\",\"Yes\" if negative_associative() else \"No\")\n",
    "print(\"Is subtraction commutative?\",\"Yes\" if negative_commutative() else \"No\")\n",
    "print(\"Is subtraction left distributive over multiplication?\",\"Yes\" if negative_left_distributive_mult() else \"No\")\n",
    "print(\"Is multiplication associative?\",\"Yes\" if mult_associative() else \"No\")\n",
    "print(\"Is multiplication commutative?\",\"Yes\" if mult_commutative() else \"No\")\n",
    "print(\"Is multiplication left distributive over subtraction?\",\"Yes\" if mult_left_distributive_negative() else \"No\")"
   ]
  },
  {
   "cell_type": "code",
   "execution_count": 17,
   "metadata": {},
   "outputs": [
    {
     "name": "stdout",
     "output_type": "stream",
     "text": [
      "Is `and` associative? Yes\n",
      "Is `and` commutative? Yes\n",
      "Is `and` left distributive over `or`? Yes\n",
      "Is `or` associative? Yes\n",
      "Is `or` commutative? Yes\n",
      "Is `or` left distributive over `and`? Yes\n"
     ]
    }
   ],
   "source": [
    "def and_associative(bool1=True,bool2=False,bool3=True):\n",
    "    return bool1 and (bool2 and bool3) == (bool1 and bool2) and bool3\n",
    "\n",
    "def and_commutative(bool1=True,bool2=False):\n",
    "    return (bool1 and bool2) == (bool2 and bool1)\n",
    "\n",
    "def and_left_distributive_or(bool1=True,bool2=False,bool3=True):\n",
    "    return bool1 and (bool2 or bool3) == (bool1 and bool2) or (bool1 and bool3)\n",
    "    \n",
    "def or_associative(bool1=True,bool2=False,bool3=True):\n",
    "    return bool1 or (bool2 or bool3) == (bool1 or bool2) or bool3\n",
    "\n",
    "def or_commutative(bool1=True,bool2=False):\n",
    "    return bool1 or bool2 == bool2 or bool1\n",
    "\n",
    "def or_left_distributive_and(bool1=True,bool2=False,bool3=True):\n",
    "    return bool1 or (bool2 and bool3) == (bool1 or bool2)  and  (bool1 or bool3)\n",
    "\n",
    "print(\"Is `and` associative?\",\"Yes\" if and_associative() else \"No\")\n",
    "print(\"Is `and` commutative?\",\"Yes\" if and_commutative() else \"No\")\n",
    "print(\"Is `and` left distributive over `or`?\",\"Yes\" if and_left_distributive_or() else \"No\")\n",
    "print(\"Is `or` associative?\",\"Yes\" if or_associative() else \"No\")\n",
    "print(\"Is `or` commutative?\",\"Yes\" if or_commutative() else \"No\")\n",
    "print(\"Is `or` left distributive over `and`?\",\"Yes\" if or_left_distributive_and() else \"No\")"
   ]
  },
  {
   "cell_type": "markdown",
   "metadata": {},
   "source": [
    "## Problem 2:\n",
    "   - [ ] Write a program that systematically evaluates the associative and commutative properties of\n",
    "     +, -, *, and / for integers, and the distributive for every pair of them.\n",
    "   - [ ] Evaluate the associative and commutative properties of `or` and `and` for Booleans. "
   ]
  },
  {
   "cell_type": "markdown",
   "metadata": {},
   "source": [
    "#### Example - Problem 2 - example_b.py"
   ]
  },
  {
   "cell_type": "code",
   "execution_count": 44,
   "metadata": {},
   "outputs": [
    {
     "name": "stdout",
     "output_type": "stream",
     "text": [
      "3\n",
      "6.8\n",
      "SyntaxError: unexpected EOF while parsing \" 1  + 3-2) \"\n",
      "i: 4; s: 'test'\n",
      "+ appears associative\n",
      "+ appears commutative\n",
      "- isn't associative\n",
      "- isn't commutative\n",
      "* appears associative\n",
      "* appears commutative\n",
      "/ isn't associative\n",
      "/ isn't commutative\n"
     ]
    }
   ],
   "source": [
    "'''Biomedical Software Engineering: BMI2002: Assignment 1\n",
    "\n",
    ":Author: Arthur Goldberg, Arthur.Goldberg@mssm.edu\n",
    ":Date: 2017-09-24\n",
    ":Copyright: 2017, Arthur Goldberg\n",
    "'''\n",
    "\n",
    "# Helpful examples:\n",
    "\n",
    "# Demonstrate Python eval().\n",
    "print(eval(\"1+2\"))\n",
    "print(eval(\"2*3+4/5\"))\n",
    "\n",
    "# raises SyntaxError exception; try it\n",
    "try: ## Ryan Neff: Added try/except to show error msg\n",
    "    print(eval(\" 1  + 3-2)\"))\n",
    "except SyntaxError as err: \n",
    "    print(\"SyntaxError:\",err.msg,\"\\\"\",err.text,\"\\\"\")\n",
    "\n",
    "# Demonstrate string format\n",
    "i = 4\n",
    "s = 'test'\n",
    "print(\"i: {}; s: '{}'\".format(i, s))\n",
    "\n",
    "def single_operator_properties(operators):\n",
    "    # test associative and commutative properties for integers\n",
    "    for operator in operators:\n",
    "\n",
    "        # associative?\n",
    "        left_hand_side = \"2 {} (3 {} 4)\".format(operator, operator)\n",
    "        right_hand_side = \"(2 {} 3) {} 4\".format(operator, operator)\n",
    "        if eval(left_hand_side) == eval(right_hand_side):\n",
    "            print(\"{} appears associative\".format(operator))\n",
    "        else:\n",
    "            print(\"{} isn't associative\".format(operator))\n",
    "\n",
    "        # commutative?\n",
    "        if eval(\"3 {} 4\".format(operator, operator)) == eval(\"4 {} 3\".format(operator, operator)):\n",
    "            print(\"{} appears commutative\".format(operator))\n",
    "        else:\n",
    "            print(\"{} isn't commutative\".format(operator))\n",
    "\n",
    "single_operator_properties(['+', '-', '*', '/'])"
   ]
  },
  {
   "cell_type": "markdown",
   "metadata": {},
   "source": [
    "### Solution - Problem 2"
   ]
  },
  {
   "cell_type": "code",
   "execution_count": 14,
   "metadata": {},
   "outputs": [
    {
     "data": {
      "text/html": [
       "<div>\n",
       "<style>\n",
       "    .dataframe thead tr:only-child th {\n",
       "        text-align: right;\n",
       "    }\n",
       "\n",
       "    .dataframe thead th {\n",
       "        text-align: left;\n",
       "    }\n",
       "\n",
       "    .dataframe tbody tr th {\n",
       "        vertical-align: top;\n",
       "    }\n",
       "</style>\n",
       "<table border=\"1\" class=\"dataframe\">\n",
       "  <thead>\n",
       "    <tr style=\"text-align: right;\">\n",
       "      <th></th>\n",
       "      <th>associative</th>\n",
       "      <th>commutative</th>\n",
       "      <th>left_distributive</th>\n",
       "    </tr>\n",
       "  </thead>\n",
       "  <tbody>\n",
       "    <tr>\n",
       "      <th>*</th>\n",
       "      <td>True</td>\n",
       "      <td>True</td>\n",
       "      <td>{'+': True, '-': True, '/': False}</td>\n",
       "    </tr>\n",
       "    <tr>\n",
       "      <th>+</th>\n",
       "      <td>True</td>\n",
       "      <td>True</td>\n",
       "      <td>{'-': False, '*': False, '/': False}</td>\n",
       "    </tr>\n",
       "    <tr>\n",
       "      <th>-</th>\n",
       "      <td>False</td>\n",
       "      <td>False</td>\n",
       "      <td>{'+': False, '*': False, '/': False}</td>\n",
       "    </tr>\n",
       "    <tr>\n",
       "      <th>/</th>\n",
       "      <td>False</td>\n",
       "      <td>False</td>\n",
       "      <td>{'+': False, '-': False, '*': False}</td>\n",
       "    </tr>\n",
       "  </tbody>\n",
       "</table>\n",
       "</div>"
      ],
      "text/plain": [
       "   associative  commutative                     left_distributive\n",
       "*         True         True    {'+': True, '-': True, '/': False}\n",
       "+         True         True  {'-': False, '*': False, '/': False}\n",
       "-        False        False  {'+': False, '*': False, '/': False}\n",
       "/        False        False  {'+': False, '-': False, '*': False}"
      ]
     },
     "metadata": {},
     "output_type": "display_data"
    },
    {
     "data": {
      "text/html": [
       "<div>\n",
       "<style>\n",
       "    .dataframe thead tr:only-child th {\n",
       "        text-align: right;\n",
       "    }\n",
       "\n",
       "    .dataframe thead th {\n",
       "        text-align: left;\n",
       "    }\n",
       "\n",
       "    .dataframe tbody tr th {\n",
       "        vertical-align: top;\n",
       "    }\n",
       "</style>\n",
       "<table border=\"1\" class=\"dataframe\">\n",
       "  <thead>\n",
       "    <tr style=\"text-align: right;\">\n",
       "      <th></th>\n",
       "      <th>associative</th>\n",
       "      <th>commutative</th>\n",
       "      <th>left_distributive</th>\n",
       "    </tr>\n",
       "  </thead>\n",
       "  <tbody>\n",
       "    <tr>\n",
       "      <th>and</th>\n",
       "      <td>True</td>\n",
       "      <td>True</td>\n",
       "      <td>{'or': True}</td>\n",
       "    </tr>\n",
       "    <tr>\n",
       "      <th>or</th>\n",
       "      <td>True</td>\n",
       "      <td>True</td>\n",
       "      <td>{'and': True}</td>\n",
       "    </tr>\n",
       "  </tbody>\n",
       "</table>\n",
       "</div>"
      ],
      "text/plain": [
       "     associative  commutative left_distributive\n",
       "and         True         True      {'or': True}\n",
       "or          True         True     {'and': True}"
      ]
     },
     "metadata": {},
     "output_type": "display_data"
    }
   ],
   "source": [
    "'''\n",
    "Solution for Problem 2 - Ryan Neff\n",
    "'''\n",
    "\n",
    "def single_operator_properties_expanded(operators,i2=2,i3=3,i4=4):\n",
    "    \n",
    "    ## helper functions ##\n",
    "    def check_input(ops=operators,i2=i2,i3=i3,i4=i4):\n",
    "        if len(set(ops).difference(set(['+','-','*','/',\"and\",\"or\"]))) > 0:\n",
    "            raise Exception(\"Please only input operators in ['+', '-', '*', '/', 'and', 'or']\")\n",
    "        if len(set([type(i2),type(i3),type(i4)]).difference(set([int,bool]))) > 0:\n",
    "            raise Exception(\"Please only input integers and booleans for testing.\")\n",
    "        return None\n",
    "    def _associative(op,i2=i2,i3=i3,i4=i4):\n",
    "        return eval(\"{i2} {op} ({i3} {op} {i4}) == ({i2} {op} {i3}) {op} {i4}\".format(i2=i2,i3=i3,i4=i4,op=op))\n",
    "    def _commutative(op,i2=i2,i3=i3):\n",
    "        return eval(\"({i2} {op} {i3}) == ({i3} {op} {i2})\".format(i2=i2,i3=i3,op=op))\n",
    "    def _left_distributive(op1,op2,i2=i2,i3=i3,i4=i4):\n",
    "        return eval(\"{i2} {op1} ({i3} {op2} {i4}) == ({i2} {op1} {i3}) {op2} ({i2} {op1} {i4})\".format(i2=i2,i3=i3,i4=i4,op1=op1,op2=op2))\n",
    "    \n",
    "    ## main function ##\n",
    "    check_input()\n",
    "    output = dict()\n",
    "    output[\"associative\"] = {o:_associative(o) for o in operators}\n",
    "    output[\"commutative\"] = {o:_commutative(o) for o in operators}\n",
    "    output[\"left_distributive\"] = dict()\n",
    "    for o1 in operators:\n",
    "        output[\"left_distributive\"][o1] = {o2:_left_distributive(o1,o2) for o2 in operators if o2!=o1}\n",
    "    return output\n",
    "\n",
    "import pandas as pd\n",
    "from IPython.display import display\n",
    "\n",
    "a = pd.DataFrame(single_operator_properties_expanded(['+', '-', '*', '/']))\n",
    "b = pd.DataFrame(single_operator_properties_expanded(['and','or'],i2=True,i3=False,i4=True))\n",
    "display(a)\n",
    "display(b)"
   ]
  }
 ],
 "metadata": {
  "kernelspec": {
   "display_name": "Python 3",
   "language": "python",
   "name": "python3"
  },
  "language_info": {
   "codemirror_mode": {
    "name": "ipython",
    "version": 3
   },
   "file_extension": ".py",
   "mimetype": "text/x-python",
   "name": "python",
   "nbconvert_exporter": "python",
   "pygments_lexer": "ipython3",
   "version": "3.6.1"
  }
 },
 "nbformat": 4,
 "nbformat_minor": 2
}
